{
  "metadata": {
    "kernelspec": {
      "name": "python",
      "display_name": "Python (Pyodide)",
      "language": "python"
    },
    "language_info": {
      "codemirror_mode": {
        "name": "python",
        "version": 3
      },
      "file_extension": ".py",
      "mimetype": "text/x-python",
      "name": "python",
      "nbconvert_exporter": "python",
      "pygments_lexer": "ipython3",
      "version": "3.8"
    }
  },
  "nbformat_minor": 5,
  "nbformat": 4,
  "cells": [
    {
      "id": "c0b7dd50-bacf-4dc0-98a1-6785b57fb181",
      "cell_type": "markdown",
      "source": "# Data Science",
      "metadata": {}
    },
    {
      "id": "728d9b1f-1d0b-4eb3-996a-4453c25444b4",
      "cell_type": "markdown",
      "source": "## In this notebook, descries some points on Data Science .",
      "metadata": {}
    },
    {
      "id": "3c957deb-56d8-43b4-9ab9-7f5efea83c17",
      "cell_type": "markdown",
      "source": "### some popular data science languages are:\n\n1. SQL\n2. Java\n3. Python\n4. R.\n5. Julia",
      "metadata": {}
    },
    {
      "id": "5c211684-5f77-4c28-bd23-590a3ab0b368",
      "cell_type": "markdown",
      "source": "### Some data science libraries are\n1. NumPy.\n2. SciPy.\n3. TensorFlow.\n4. Pandas.\n5. Scrapy.\n6. BeautifulSoup.\n7. LightGBM.\n8. ELI5.\n9. Theano.\n10. Matplotlib.\n11. Keras.\n12. SciKit-Learn.\n13. PyTorch.\n",
      "metadata": {}
    },
    {
      "id": "34f750eb-46e1-46e8-b8a1-45bf703d5cdb",
      "cell_type": "markdown",
      "source": "### some data science tools are\n1. Apache Spark\t\n2. SAS.\t\n3. BigMLsome data science tools are\n1. Apache Spark\t\n2. SAS.\t\n3. BigML",
      "metadata": {}
    },
    {
      "id": "f92bcb19-d785-4d26-a66b-5155e7860fc1",
      "cell_type": "code",
      "source": "### Arithmetic operations\ncode = compile(\"8 - 2\", \"<string>\", \"eval\")\neval(code)",
      "metadata": {
        "trusted": true
      },
      "outputs": [
        {
          "execution_count": 5,
          "output_type": "execute_result",
          "data": {
            "text/plain": "6"
          },
          "metadata": {}
        }
      ],
      "execution_count": 5
    },
    {
      "id": "dcfbafe7-f033-4769-992b-b9155aa2c5bc",
      "cell_type": "code",
      "source": "#muliply and add number\n(9*5)+8",
      "metadata": {
        "trusted": true
      },
      "outputs": [
        {
          "execution_count": 6,
          "output_type": "execute_result",
          "data": {
            "text/plain": "53"
          },
          "metadata": {}
        }
      ],
      "execution_count": 6
    },
    {
      "id": "383731de-c25b-4b4f-a1ce-44f26b6ae2ab",
      "cell_type": "code",
      "source": "#This will convert 100 minutes to hours by diving by 60\ndays = 0\nhours = 0\nmins = 0\ntime = 100\n#days = time / 1440\nleftover_minutes = time % 1440\nhours = leftover_minutes / 60\n#mins = time - (days*1440) - (hours*60)\nprint(str(days) + \" days, \" + str(hours) + \" hours, \" + str(mins) +  \" mins. \")\n",
      "metadata": {
        "trusted": true
      },
      "outputs": [
        {
          "name": "stdout",
          "text": "0 days, 1.6666666666666667 hours, 0 mins. \n",
          "output_type": "stream"
        }
      ],
      "execution_count": 7
    },
    {
      "id": "2ab21b9e-1ba9-4739-a770-c672cb525d65",
      "cell_type": "markdown",
      "source": "In this new cell start with an introductory line titled: Objectives: in bold font. Then using an unordered list indicate 3 to 5 items covered in this notebook, such as List popular languages for Data Science.",
      "metadata": {}
    },
    {
      "id": "ee566760-e4a1-4439-baf6-5e54e551929f",
      "cell_type": "markdown",
      "source": "## Author: Turjo Das",
      "metadata": {}
    },
    {
      "id": "2ed7253b-c64b-43be-8b5c-38c2b42e6c2e",
      "cell_type": "code",
      "source": "",
      "metadata": {
        "trusted": true
      },
      "outputs": [],
      "execution_count": null
    },
    {
      "id": "2b7aece3-896e-49e3-b342-3c441e0bdfc3",
      "cell_type": "code",
      "source": "",
      "metadata": {
        "trusted": true
      },
      "outputs": [],
      "execution_count": null
    },
    {
      "id": "5e7531f1-a6e1-42f0-b318-2d0e6692001a",
      "cell_type": "code",
      "source": "",
      "metadata": {
        "trusted": true
      },
      "outputs": [],
      "execution_count": null
    }
  ]
}